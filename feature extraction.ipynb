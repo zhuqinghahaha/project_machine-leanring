{
 "cells": [
  {
   "cell_type": "code",
   "execution_count": 1,
   "metadata": {
    "collapsed": true
   },
   "outputs": [],
   "source": [
    "import librosa\n",
    "import librosa.display\n",
    "import librosa.feature\n",
    "import numpy as np"
   ]
  },
  {
   "cell_type": "code",
   "execution_count": null,
   "metadata": {
    "collapsed": true
   },
   "outputs": [],
   "source": [
    "blues_data = np.zeros([100,35])\n",
    "for i in range(100):\n",
    "    y,sr = librosa.load('./genres/blues/blues.{0:05d}.au'.format(i))\n",
    "    # chroma features\n",
    "    chroma_cens = librosa.feature.chroma_cens(y=y, sr=sr)\n",
    "    # tempo\n",
    "    onset_env = librosa.onset.onset_strength(y=y, sr=sr)\n",
    "    tempo = librosa.beat.tempo(onset_envelope=onset_env, sr=sr)\n",
    "    # mfccs\n",
    "    S = librosa.feature.melspectrogram(y=y, sr=sr, n_mels=128, fmin=20, fmax=10000)\n",
    "    S1 = librosa.feature.mfcc(S=librosa.power_to_db(S))\n",
    "    # ZCR\n",
    "    ZCR = np.mean(librosa.feature.zero_crossing_rate(y))\n",
    "    # RMS\n",
    "    S2, phase = librosa.magphase(librosa.stft(y))\n",
    "    rms = librosa.feature.rmse(S=S2)\n",
    "    RMS = np.mean(rms)        \n",
    "    blues_data[i,0:20]=np.mean(S1,axis=1)\n",
    "    blues_data[i,20]=tempo\n",
    "    blues_data[i,21]=ZCR\n",
    "    blues_data[i,22]=RMS\n",
    "    blues_data[i,23:35]=np.mean(chroma_cens,axis=1)"
   ]
  },
  {
   "cell_type": "code",
   "execution_count": null,
   "metadata": {
    "collapsed": true
   },
   "outputs": [],
   "source": [
    "classical_data = np.zeros([100,35])\n",
    "for i in range(100):\n",
    "    y,sr = librosa.load('./genres/classical/classical.{0:05d}.au'.format(i))\n",
    "    # chroma features\n",
    "    chroma_cens = librosa.feature.chroma_cens(y=y, sr=sr)\n",
    "    # tempo\n",
    "    onset_env = librosa.onset.onset_strength(y=y, sr=sr)\n",
    "    tempo = librosa.beat.tempo(onset_envelope=onset_env, sr=sr)\n",
    "    # mfccs\n",
    "    S = librosa.feature.melspectrogram(y=y, sr=sr, n_mels=128, fmin=20, fmax=10000)\n",
    "    S1 = librosa.feature.mfcc(S=librosa.power_to_db(S))\n",
    "    # ZCR\n",
    "    ZCR = np.mean(librosa.feature.zero_crossing_rate(y))\n",
    "    # RMS\n",
    "    S2, phase = librosa.magphase(librosa.stft(y))\n",
    "    rms = librosa.feature.rmse(S=S2)\n",
    "    RMS = np.mean(rms)        \n",
    "    classical_data[i,0:20]=np.mean(S1,axis=1)\n",
    "    classical_data[i,20]=tempo\n",
    "    classical_data[i,21]=ZCR\n",
    "    classical_data[i,22]=RMS\n",
    "    classical_data[i,23:35]=np.mean(chroma_cens,axis=1)"
   ]
  },
  {
   "cell_type": "code",
   "execution_count": null,
   "metadata": {
    "collapsed": true
   },
   "outputs": [],
   "source": [
    "country_data = np.zeros([100,35])\n",
    "for i in range(100):\n",
    "    y,sr = librosa.load('./genres/country/country.{0:05d}.au'.format(i))\n",
    "    # chroma features\n",
    "    chroma_cens = librosa.feature.chroma_cens(y=y, sr=sr)\n",
    "    # tempo\n",
    "    onset_env = librosa.onset.onset_strength(y=y, sr=sr)\n",
    "    tempo = librosa.beat.tempo(onset_envelope=onset_env, sr=sr)\n",
    "    # mfccs\n",
    "    S = librosa.feature.melspectrogram(y=y, sr=sr, n_mels=128, fmin=20, fmax=10000)\n",
    "    S1 = librosa.feature.mfcc(S=librosa.power_to_db(S))\n",
    "    # ZCR\n",
    "    ZCR = np.mean(librosa.feature.zero_crossing_rate(y))\n",
    "    # RMS\n",
    "    S2, phase = librosa.magphase(librosa.stft(y))\n",
    "    rms = librosa.feature.rmse(S=S2)\n",
    "    RMS = np.mean(rms)        \n",
    "    country_data[i,0:20]=np.mean(S1,axis=1)\n",
    "    country_data[i,20]=tempo\n",
    "    country_data[i,21]=ZCR\n",
    "    country_data[i,22]=RMS\n",
    "    country_data[i,23:35]=np.mean(chroma_cens,axis=1)"
   ]
  },
  {
   "cell_type": "code",
   "execution_count": null,
   "metadata": {
    "collapsed": true
   },
   "outputs": [],
   "source": [
    "disco_data = np.zeros([100,35])\n",
    "for i in range(100):\n",
    "    y,sr = librosa.load('./genres/disco/disco.{0:05d}.au'.format(i))\n",
    "    # chroma features\n",
    "    chroma_cens = librosa.feature.chroma_cens(y=y, sr=sr)\n",
    "    # tempo\n",
    "    onset_env = librosa.onset.onset_strength(y=y, sr=sr)\n",
    "    tempo = librosa.beat.tempo(onset_envelope=onset_env, sr=sr)\n",
    "    # mfccs\n",
    "    S = librosa.feature.melspectrogram(y=y, sr=sr, n_mels=128, fmin=20, fmax=10000)\n",
    "    S1 = librosa.feature.mfcc(S=librosa.power_to_db(S))\n",
    "    # ZCR\n",
    "    ZCR = np.mean(librosa.feature.zero_crossing_rate(y))\n",
    "    # RMS\n",
    "    S2, phase = librosa.magphase(librosa.stft(y))\n",
    "    rms = librosa.feature.rmse(S=S2)\n",
    "    RMS = np.mean(rms)        \n",
    "    disco_data[i,0:20]=np.mean(S1,axis=1)\n",
    "    disco_data[i,20]=tempo\n",
    "    disco_data[i,21]=ZCR\n",
    "    disco_data[i,22]=RMS\n",
    "    disco_data[i,23:35]=np.mean(chroma_cens,axis=1)"
   ]
  },
  {
   "cell_type": "code",
   "execution_count": null,
   "metadata": {
    "collapsed": true
   },
   "outputs": [],
   "source": [
    "hiphop_data = np.zeros([100,35])\n",
    "for i in range(100):\n",
    "    y,sr = librosa.load('./genres/hiphop/hiphop.{0:05d}.au'.format(i))\n",
    "    # chroma features\n",
    "    chroma_cens = librosa.feature.chroma_cens(y=y, sr=sr)\n",
    "    # tempo\n",
    "    onset_env = librosa.onset.onset_strength(y=y, sr=sr)\n",
    "    tempo = librosa.beat.tempo(onset_envelope=onset_env, sr=sr)\n",
    "    # mfccs\n",
    "    S = librosa.feature.melspectrogram(y=y, sr=sr, n_mels=128, fmin=20, fmax=10000)\n",
    "    S1 = librosa.feature.mfcc(S=librosa.power_to_db(S))\n",
    "    # ZCR\n",
    "    ZCR = np.mean(librosa.feature.zero_crossing_rate(y))\n",
    "    # RMS\n",
    "    S2, phase = librosa.magphase(librosa.stft(y))\n",
    "    rms = librosa.feature.rmse(S=S2)\n",
    "    RMS = np.mean(rms)        \n",
    "    hiphop_data[i,0:20]=np.mean(S1,axis=1)\n",
    "    hiphop_data[i,20]=tempo\n",
    "    hiphop_data[i,21]=ZCR\n",
    "    hiphop_data[i,22]=RMS\n",
    "    hiphop_data[i,23:35]=np.mean(chroma_cens,axis=1)"
   ]
  },
  {
   "cell_type": "code",
   "execution_count": null,
   "metadata": {
    "collapsed": true
   },
   "outputs": [],
   "source": [
    "jazz_data = np.zeros([100,35])\n",
    "for i in range(100):\n",
    "    y,sr = librosa.load('./genres/jazz/jazz.{0:05d}.au'.format(i))\n",
    "    # chroma features\n",
    "    chroma_cens = librosa.feature.chroma_cens(y=y, sr=sr)\n",
    "    # tempo\n",
    "    onset_env = librosa.onset.onset_strength(y=y, sr=sr)\n",
    "    tempo = librosa.beat.tempo(onset_envelope=onset_env, sr=sr)\n",
    "    # mfccs\n",
    "    S = librosa.feature.melspectrogram(y=y, sr=sr, n_mels=128, fmin=20, fmax=10000)\n",
    "    S1 = librosa.feature.mfcc(S=librosa.power_to_db(S))\n",
    "    # ZCR\n",
    "    ZCR = np.mean(librosa.feature.zero_crossing_rate(y))\n",
    "    # RMS\n",
    "    S2, phase = librosa.magphase(librosa.stft(y))\n",
    "    rms = librosa.feature.rmse(S=S2)\n",
    "    RMS = np.mean(rms)        \n",
    "    jazz_data[i,0:20]=np.mean(S1,axis=1)\n",
    "    jazz_data[i,20]=tempo\n",
    "    jazz_data[i,21]=ZCR\n",
    "    jazz_data[i,22]=RMS\n",
    "    jazz_data[i,23:35]=np.mean(chroma_cens,axis=1)"
   ]
  },
  {
   "cell_type": "code",
   "execution_count": null,
   "metadata": {
    "collapsed": true
   },
   "outputs": [],
   "source": [
    "metal_data = np.zeros([100,35])\n",
    "for i in range(100):\n",
    "    y,sr = librosa.load('./genres/metal/metal.{0:05d}.au'.format(i))\n",
    "    # chroma features\n",
    "    chroma_cens = librosa.feature.chroma_cens(y=y, sr=sr)\n",
    "    # tempo\n",
    "    onset_env = librosa.onset.onset_strength(y=y, sr=sr)\n",
    "    tempo = librosa.beat.tempo(onset_envelope=onset_env, sr=sr)\n",
    "    # mfccs\n",
    "    S = librosa.feature.melspectrogram(y=y, sr=sr, n_mels=128, fmin=20, fmax=10000)\n",
    "    S1 = librosa.feature.mfcc(S=librosa.power_to_db(S))\n",
    "    # ZCR\n",
    "    ZCR = np.mean(librosa.feature.zero_crossing_rate(y))\n",
    "    # RMS\n",
    "    S2, phase = librosa.magphase(librosa.stft(y))\n",
    "    rms = librosa.feature.rmse(S=S2)\n",
    "    RMS = np.mean(rms)        \n",
    "    metal_data[i,0:20]=np.mean(S1,axis=1)\n",
    "    metal_data[i,20]=tempo\n",
    "    metal_data[i,21]=ZCR\n",
    "    metal_data[i,22]=RMS\n",
    "    metal_data[i,23:35]=np.mean(chroma_cens,axis=1)"
   ]
  },
  {
   "cell_type": "code",
   "execution_count": null,
   "metadata": {
    "collapsed": true
   },
   "outputs": [],
   "source": [
    "pop_data = np.zeros([100,35])\n",
    "for i in range(100):\n",
    "    y,sr = librosa.load('./genres/pop/pop.{0:05d}.au'.format(i))\n",
    "    # chroma features\n",
    "    chroma_cens = librosa.feature.chroma_cens(y=y, sr=sr)\n",
    "    # tempo\n",
    "    onset_env = librosa.onset.onset_strength(y=y, sr=sr)\n",
    "    tempo = librosa.beat.tempo(onset_envelope=onset_env, sr=sr)\n",
    "    # mfccs\n",
    "    S = librosa.feature.melspectrogram(y=y, sr=sr, n_mels=128, fmin=20, fmax=10000)\n",
    "    S1 = librosa.feature.mfcc(S=librosa.power_to_db(S))\n",
    "    # ZCR\n",
    "    ZCR = np.mean(librosa.feature.zero_crossing_rate(y))\n",
    "    # RMS\n",
    "    S2, phase = librosa.magphase(librosa.stft(y))\n",
    "    rms = librosa.feature.rmse(S=S2)\n",
    "    RMS = np.mean(rms)        \n",
    "    pop_data[i,0:20]=np.mean(S1,axis=1)\n",
    "    pop_data[i,20]=tempo\n",
    "    pop_data[i,21]=ZCR\n",
    "    pop_data[i,22]=RMS\n",
    "    pop_data[i,23:35]=np.mean(chroma_cens,axis=1)"
   ]
  },
  {
   "cell_type": "code",
   "execution_count": null,
   "metadata": {
    "collapsed": true
   },
   "outputs": [],
   "source": [
    "raggae_data = np.zeros([100,35])\n",
    "for i in range(100):\n",
    "    y,sr = librosa.load('./genres/reggae/reggae.{0:05d}.au'.format(i))\n",
    "    # chroma features\n",
    "    chroma_cens = librosa.feature.chroma_cens(y=y, sr=sr)\n",
    "    # tempo\n",
    "    onset_env = librosa.onset.onset_strength(y=y, sr=sr)\n",
    "    tempo = librosa.beat.tempo(onset_envelope=onset_env, sr=sr)\n",
    "    # mfccs\n",
    "    S = librosa.feature.melspectrogram(y=y, sr=sr, n_mels=128, fmin=20, fmax=10000)\n",
    "    S1 = librosa.feature.mfcc(S=librosa.power_to_db(S))\n",
    "    # ZCR\n",
    "    ZCR = np.mean(librosa.feature.zero_crossing_rate(y))\n",
    "    # RMS\n",
    "    S2, phase = librosa.magphase(librosa.stft(y))\n",
    "    rms = librosa.feature.rmse(S=S2)\n",
    "    RMS = np.mean(rms)        \n",
    "    reggae_data[i,0:20]=np.mean(S1,axis=1)\n",
    "    reggae_data[i,20]=tempo\n",
    "    reggae_data[i,21]=ZCR\n",
    "    reggae_data[i,22]=RMS\n",
    "    reggae_data[i,23:35]=np.mean(chroma_cens,axis=1)"
   ]
  },
  {
   "cell_type": "code",
   "execution_count": null,
   "metadata": {
    "collapsed": true
   },
   "outputs": [],
   "source": [
    "rock_data = np.zeros([100,35])\n",
    "for i in range(100):\n",
    "    y,sr = librosa.load('./genres/rock/rock.{0:05d}.au'.format(i))\n",
    "    # chroma features\n",
    "    chroma_cens = librosa.feature.chroma_cens(y=y, sr=sr)\n",
    "    # tempo\n",
    "    onset_env = librosa.onset.onset_strength(y=y, sr=sr)\n",
    "    tempo = librosa.beat.tempo(onset_envelope=onset_env, sr=sr)\n",
    "    # mfccs\n",
    "    S = librosa.feature.melspectrogram(y=y, sr=sr, n_mels=128, fmin=20, fmax=10000)\n",
    "    S1 = librosa.feature.mfcc(S=librosa.power_to_db(S))\n",
    "    # ZCR\n",
    "    ZCR = np.mean(librosa.feature.zero_crossing_rate(y))\n",
    "    # RMS\n",
    "    S2, phase = librosa.magphase(librosa.stft(y))\n",
    "    rms = librosa.feature.rmse(S=S2)\n",
    "    RMS = np.mean(rms)        \n",
    "    rock_data[i,0:20]=np.mean(S1,axis=1)\n",
    "    rock_data[i,20]=tempo\n",
    "    rock_data[i,21]=ZCR\n",
    "    rock_data[i,22]=RMS\n",
    "    rock_data[i,23:35]=np.mean(chroma_cens,axis=1)"
   ]
  },
  {
   "cell_type": "code",
   "execution_count": null,
   "metadata": {
    "collapsed": true
   },
   "outputs": [],
   "source": [
    "import scipy.io as sio"
   ]
  },
  {
   "cell_type": "code",
   "execution_count": null,
   "metadata": {
    "collapsed": true
   },
   "outputs": [],
   "source": [
    "sio.savemat('blues_data.mat', {'blues_data':blues_data})\n",
    "sio.savemat('classical_data.mat', {'classical_data':classical_data})\n",
    "sio.savemat('country_data.mat', {'country_data':country_data})\n",
    "sio.savemat('disco_data.mat', {'disco_data':disco_data})\n",
    "sio.savemat('hiphop_data.mat', {'hiphop_data':hiphop_data})\n",
    "sio.savemat('jazz_data.mat', {'jazz_data':jazz_data})\n",
    "sio.savemat('metal_data.mat', {'metal_data':metal_data})\n",
    "sio.savemat('pop_data.mat', {'pop_data':pop_data})\n",
    "sio.savemat('reggae_data.mat', {'reggae_data':reggae_data})\n",
    "sio.savemat('rock_data.mat', {'rock_data':rock_data})"
   ]
  }
 ],
 "metadata": {
  "kernelspec": {
   "display_name": "Python 3",
   "language": "python",
   "name": "python3"
  },
  "language_info": {
   "codemirror_mode": {
    "name": "ipython",
    "version": 3
   },
   "file_extension": ".py",
   "mimetype": "text/x-python",
   "name": "python",
   "nbconvert_exporter": "python",
   "pygments_lexer": "ipython3",
   "version": "3.6.2"
  }
 },
 "nbformat": 4,
 "nbformat_minor": 2
}
